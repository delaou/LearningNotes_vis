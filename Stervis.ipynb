{
 "cells": [
  {
   "cell_type": "code",
   "execution_count": null,
   "metadata": {},
   "outputs": [],
   "source": [
    "import cv2\n",
    "import numpy as np\n",
    "from matplotlib import pyplot as plt\n",
    "import glob\n",
    "import math"
   ]
  },
  {
   "cell_type": "code",
   "execution_count": null,
   "metadata": {},
   "outputs": [],
   "source": [
    "class Pam_series:#参数类\n",
    "    def __init__(self,img_l_Calset_ad,img_r_Calset_ad,camMat_l,camMat_r,dist_l,dist_r,rvecs,tvecs,img_l_ad,img_r_ad,blockSize):\n",
    "        self.img_l_Calset_ad=img_l_Calset_ad\n",
    "        self.img_r_Calset_ad=img_r_Calset_ad\n",
    "        self.camMat_l=camMat_l\n",
    "        self.camMat_r=camMat_r\n",
    "        self.dist_l=dist_l\n",
    "        self.dist_r=dist_r\n",
    "        self.rvecs=rvecs\n",
    "        self.tvecs=tvecs\n",
    "        self.img_l_ad=img_l_ad\n",
    "        self.img_r_ad=img_r_ad\n",
    "        self.blockSize=blockSize\n",
    "    def mod(self):\n",
    "        if self.camMat_l==None:\n",
    "            return True\n",
    "        else:\n",
    "            return False\n",
    "Pam=Pam_series(\n",
    "               img_l_Calset_ad=r\"C:\\Users\\delao\\Desktop\\Data\\left\\*.bmp\",\n",
    "               img_r_Calset_ad=r\"C:\\Users\\delao\\Desktop\\Data\\right\\*.bmp\",\n",
    "               camMat_l=np.array([[5.347859801204778e+03,0,0],[0,5.350574841506704e+03,0],[9.748426007966679e+02,6.236733312910876e+02,1]]).T,\n",
    "               camMat_r=np.array([[7.098767860712695e+03,0,0],[0,7.102553579387220e+03,0],[9.097081750340408e+02,6.244755014399113e+02,1]]).T,\n",
    "               dist_l=np.array([-0.111163865731777,2.753625470972829,0,0,0]),\n",
    "               dist_r=np.array([-0.027357011977946,-1.985581188272772,0,0,0]),\n",
    "               rvecs=np.array([[0.999416738570253,0.032328680731352,0.011001775664386],\n",
    "                              [-0.032352835976846,0.999474459232070,0.002024684424001],\n",
    "                              [-0.010930538406429,-0.002379442147193,0.999937428835032]]).T,\n",
    "               tvecs=np.array([-99.717260083345440,-1.853295331713976,9.290465463503027]).T,#MATLAB标定数据\n",
    "               img_l_ad=r\"C:\\Users\\delao\\Desktop\\Data\\left\\left0009.bmp\",\n",
    "               img_r_ad=r\"C:\\Users\\delao\\Desktop\\Data\\right\\right0009.bmp\",\n",
    "               blockSize=7\n",
    "               )"
   ]
  },
  {
   "cell_type": "code",
   "execution_count": null,
   "metadata": {},
   "outputs": [],
   "source": [
    "def Calibrate(sampt,adset,limnum=30):#单目标定\n",
    "    img_adset=glob.glob(adset)\n",
    "    sterpt_arr=[]\n",
    "    cornpt_arr=[]\n",
    "    fal_read=[]\n",
    "    count=0\n",
    "    sterpt=np.zeros((sampt[0]*sampt[1],3),np.float32)\n",
    "    x,y=np.mgrid[0:sampt[0],0:sampt[1]]\n",
    "    sterpt[:,:2]=cv2.merge((np.transpose(x),np.transpose(y))).reshape(-1,2)#生成世界坐标\n",
    "    for img_ad in img_adset:\n",
    "        img=cv2.imread(img_ad,0)#依次读入图片\n",
    "        ret,cornpt=cv2.findChessboardCorners(img,sampt)#寻找棋盘点\n",
    "        if ret==True:\n",
    "            cornpt=cv2.cornerSubPix(img,cornpt,(11,11),(-1,-1),(cv2.TERM_CRITERIA_EPS+cv2.TERM_CRITERIA_MAX_ITER,30,0.001))#亚像素角点检测\n",
    "            sterpt_arr.append(sterpt)\n",
    "            cornpt_arr.append(cornpt)\n",
    "            count+=1\n",
    "            if count>=limnum:\n",
    "                break\n",
    "        else:\n",
    "            fal_read.append(img_ad)#记录未找到棋盘点的图片\n",
    "    img_size=img.shape[::-1]\n",
    "    ret,camMat,dist,rvecs,tvecs=cv2.calibrateCamera(sterpt_arr,cornpt_arr,img_size,None,None)#相机标定，计算参数\n",
    "    return sterpt_arr,cornpt_arr,camMat,dist,img_size   "
   ]
  },
  {
   "cell_type": "code",
   "execution_count": null,
   "metadata": {},
   "outputs": [],
   "source": [
    "def Rectify(img_l,img_r,camMat_l_n,dist_l_n,camMat_r_n,dist_r_n,rvecs_st,tvecs_st):#立体校正和畸变矫正\n",
    "    rec_rvecs_l,rec_rvecs_r,rec_tvecs_l,rec_tvecs_r,stertrfrMat,validPixROI1,validPixROI2=\\\n",
    "    cv2.stereoRectify(camMat_l_n,dist_l_n,camMat_r_n,dist_r_n,img_l.shape[:2][::-1],rvecs_st,tvecs_st,1,(0,0))\n",
    "    l_map1,l_map2=cv2.initUndistortRectifyMap(camMat_l_n,dist_l_n,rec_rvecs_l,rec_tvecs_l,img_l.shape[:2][::-1],cv2.CV_16SC2)\n",
    "    r_map1,r_map2=cv2.initUndistortRectifyMap(camMat_r_n,dist_r_n,rec_rvecs_r,rec_tvecs_r,img_r.shape[:2][::-1],cv2.CV_16SC2)\n",
    "    #分别计算图像校正变换矩阵\n",
    "    res_l=cv2.remap(img_l,l_map1,l_map2,cv2.INTER_LINEAR)\n",
    "    res_r=cv2.remap(img_r,r_map1,r_map2,cv2.INTER_LINEAR)#得出校正后图像\n",
    "    return res_l,res_r,stertrfrMat"
   ]
  },
  {
   "cell_type": "code",
   "execution_count": null,
   "metadata": {},
   "outputs": [],
   "source": [
    "if Pam.mod==True:   \n",
    "    sterpt_arr,cornpt_arr_l,camMat_l,dist_l,img_size=Calibrate((7,6),Pam.img_l_Calset_ad)\n",
    "    sterpt_arr,cornpt_arr_r,camMat_r,dist_r,img_size=Calibrate((7,6),Pam.img_r_Calset_ad,limnum=len(cornpt_arr_l))\n",
    "    if len(cornpt_arr_r)<len(cornpt_arr_l):\n",
    "        sterpt_arr,cornpt_arr_l,camMat_l,dist_l,img_size=Calibrate((7,6),Pam.img_l_Calset_ad,limnum=len(cornpt_arr_r))\n",
    "    ret,camMat_l_n,dist_l_n,camMat_r_n,dist_r_n,rvecs_st,tvecs_st,E,F=\\\n",
    "    cv2.stereoCalibrate(sterpt_arr,cornpt_arr_l,cornpt_arr_r,camMat_l,dist_l,camMat_r,dist_r,img_size)\n",
    "else:\n",
    "    camMat_l_n=Pam.camMat_l\n",
    "    camMat_r_n=Pam.camMat_r\n",
    "    dist_l_n=Pam.dist_l\n",
    "    dist_r_n=Pam.dist_r\n",
    "    rvecs_st=Pam.rvecs\n",
    "    tvecs_st=Pam.tvecs"
   ]
  },
  {
   "cell_type": "code",
   "execution_count": null,
   "metadata": {},
   "outputs": [],
   "source": [
    "def SGBM(img_l,img_r,blockSize=9):#视差计算\n",
    "    if len(img_l.shape)==2:\n",
    "        img_dim=1\n",
    "    else:\n",
    "        img_dim=3#读入图像通道数\n",
    "    SGBM_pam_l={#设定SGBM参数\n",
    "            #预处理参数\n",
    "            'preFilterCap':1,#映射滤波器大小\n",
    "            #代价计算参数\n",
    "            'minDisparity':0,#最小视差，决定左图像素点在右图匹配起点\n",
    "            'numDisparities':64,#视差搜索范围，16的整数倍\n",
    "            'blockSize':blockSize,#代价计算窗口大小，根据实际状况设置，值越大视差图越平滑\n",
    "            #动态规划参数\n",
    "            'P1':8*img_dim*blockSize*blockSize,#相邻像素点视差增减1时的惩罚系数\n",
    "            'P2':32*img_dim*blockSize*blockSize,#相邻像素点视差变化大于1时的惩罚系数\n",
    "            #优化处理参数\n",
    "            'uniquenessRatio':10,#唯一性检测参数(区分误匹配，值越大检测区分越强)\n",
    "            'disp12MaxDiff':-1,#一致性检测最大允许误差\n",
    "            'speckleWindowSize':100,#视差联通区域最小允许像素点个数\n",
    "            'speckleRange':100,#视差联通最大允许视差变化值\n",
    "            'mode':cv2.STEREO_SGBM_MODE_HH#不同模式下速度与效果不同\n",
    "            }\n",
    "    SGBM_ster_l=cv2.StereoSGBM_create(**SGBM_pam_l)\n",
    "    disp_l=SGBM_ster_l.compute(img_l,img_r)#计算视差\n",
    "    return disp_l\n"
   ]
  },
  {
   "cell_type": "code",
   "execution_count": null,
   "metadata": {},
   "outputs": [],
   "source": [
    "def ColorDisp(disp):#转彩色\n",
    "    disp_n=cv2.normalize(disp,None,alpha=0,beta=255,norm_type=cv2.NORM_MINMAX,dtype=cv2.CV_8U)\n",
    "    disp_color=cv2.applyColorMap(disp_n,2)\n",
    "    return disp_color"
   ]
  },
  {
   "cell_type": "code",
   "execution_count": null,
   "metadata": {},
   "outputs": [],
   "source": [
    "def mouse_click(event,x,y,flags,param):\n",
    "    if event==cv2.EVENT_LBUTTONDOWN:\n",
    "        threeD=param\n",
    "        print('\\n像素坐标x = %d,y = %d'%(x, y))\n",
    "        print(\"世界坐标是:\",threeD[y][x][0],threeD[y][x][1],threeD[y][x][2],\"mm\")\n",
    "        distance=math.sqrt(threeD[y][x][0]**2+threeD[y][x][1]**2+threeD[y][x][2]**2)\n",
    "        print(\"距离是:\",distance,\"mm\")"
   ]
  },
  {
   "cell_type": "code",
   "execution_count": null,
   "metadata": {},
   "outputs": [],
   "source": [
    "img_l=cv2.imread(Pam.img_l_ad,0)\n",
    "img_r=cv2.imread(Pam.img_r_ad,0)\n",
    "rvecs_st=Pam.rvecs\n",
    "tvecs_st=Pam.tvecs\n",
    "img_l_re,img_r_re,stertrfrMat=Rectify(img_l,img_r,camMat_l_n,dist_l_n,camMat_r_n,dist_r_n,rvecs_st,tvecs_st)\n",
    "disp_l=SGBM(img_l_re,img_r_re,Pam.blockSize)\n",
    "dep_l=ColorDisp(disp_l)\n",
    "dep_l_m=cv2.cvtColor(dep_l,cv2.COLOR_BGR2RGB)\n",
    "disp_l_n=cv2.normalize(disp_l,disp_l,alpha=0,beta=255,norm_type=cv2.NORM_MINMAX,dtype=cv2.CV_8U)"
   ]
  },
  {
   "cell_type": "code",
   "execution_count": null,
   "metadata": {},
   "outputs": [],
   "source": [
    "plt.subplot(421),plt.imshow(img_l,cmap='gray')\n",
    "plt.subplot(422),plt.imshow(img_r,cmap='gray')\n",
    "plt.subplot(423),plt.imshow(img_l_re,cmap='gray')\n",
    "plt.subplot(424),plt.imshow(img_r_re,cmap='gray')\n",
    "plt.subplot(425),plt.imshow(disp_l_n,cmap='gray')\n",
    "plt.subplot(427),plt.imshow(dep_l_m)\n",
    "plt.show()"
   ]
  },
  {
   "cell_type": "code",
   "execution_count": null,
   "metadata": {},
   "outputs": [],
   "source": [
    "cv2.imshow('depth',dep_l)\n",
    "threeD=cv2.reprojectImageTo3D(disp_l,stertrfrMat)\n",
    "threeD=threeD*16\n",
    "cv2.setMouseCallback(\"depth\",mouse_click,threeD)\n",
    "cv2.waitKey()"
   ]
  }
 ],
 "metadata": {
  "kernelspec": {
   "display_name": "Python 3.10.8 64-bit",
   "language": "python",
   "name": "python3"
  },
  "language_info": {
   "codemirror_mode": {
    "name": "ipython",
    "version": 3
   },
   "file_extension": ".py",
   "mimetype": "text/x-python",
   "name": "python",
   "nbconvert_exporter": "python",
   "pygments_lexer": "ipython3",
   "version": "3.10.8"
  },
  "orig_nbformat": 4,
  "vscode": {
   "interpreter": {
    "hash": "52634da84371cba311ea128a5ea7cdc41ff074b781779e754b270ff9f8153cee"
   }
  }
 },
 "nbformat": 4,
 "nbformat_minor": 2
}
